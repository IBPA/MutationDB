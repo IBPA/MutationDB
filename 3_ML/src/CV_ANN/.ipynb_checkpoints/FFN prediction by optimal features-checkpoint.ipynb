{
 "cells": [
  {
   "cell_type": "code",
   "execution_count": 1,
   "metadata": {},
   "outputs": [
    {
     "name": "stderr",
     "output_type": "stream",
     "text": [
      "Using TensorFlow backend.\n"
     ]
    }
   ],
   "source": [
    "import sys\n",
    "import pandas as pd\n",
    "import numpy as np\n",
    "import keras\n",
    "from keras.models import Sequential\n",
    "from keras.layers import Dense, Dropout,BatchNormalization\n",
    "from keras.optimizers import RMSprop,Adagrad\n",
    "from keras.regularizers import l2,l1\n",
    "from keras.optimizers import Adam,RMSprop\n",
    "\n",
    "from sklearn.model_selection import LeaveOneOut\n",
    "from sklearn.metrics import roc_curve, auc\n",
    "import matplotlib.pyplot as plt\n",
    "from keras.callbacks import EarlyStopping\n",
    "\n",
    "from sklearn.metrics import average_precision_score\n",
    "import collections\n",
    "import random\n",
    "\n",
    "\n",
    "df = pd.read_csv(\"../../out_data/MLDB.csv\",encoding = \"latin-1\")\n",
    "\n",
    "first_gene_index = df.columns.get_loc(\"rrrD\")\n",
    "\n"
   ]
  },
  {
   "cell_type": "code",
   "execution_count": 3,
   "metadata": {
    "collapsed": true
   },
   "outputs": [],
   "source": [
    "def get_feature_index(file_path,line_num):\n",
    "\n",
    "    with open(file_path) as fp:\n",
    "        for i, line in enumerate(fp):\n",
    "            if i == line_num:\n",
    "                removed = [int(x) for x in line.strip().split(\" \")]\n",
    "                break\n",
    "    indexes = [i for i in range(84) if  i not in removed[:-1]]\n",
    "    setting_index = removed[-1]\n",
    "    return (indexes,setting_index)\n"
   ]
  },
  {
   "cell_type": "code",
   "execution_count": 4,
   "metadata": {
    "collapsed": true
   },
   "outputs": [],
   "source": [
    "def get_setting(file_path,line_num):\n",
    "    digits = tuple([str(i) for i in range(9)])\n",
    "    with open(file_path) as fp:\n",
    "        for i, line in enumerate(fp):\n",
    "            if i == line_num:\n",
    "                setting = [float(x)  if x.startswith(digits ) else x for x in line.strip().split(\",\")] \n",
    "                break\n",
    "    return setting"
   ]
  },
  {
   "cell_type": "code",
   "execution_count": 8,
   "metadata": {
    "collapsed": true
   },
   "outputs": [],
   "source": [
    "def getModel(setting,num_input=84):\n",
    "    regularizer = l1(setting['alpha']) if setting['regularization']=='l1' else l2(setting['alpha'])\n",
    "    optimizers = {\"adam\":  Adam(lr=setting['lr']), \"RMSProp\":RMSprop(lr=setting['lr']), \"Adagrad\": Adagrad(lr=0.01) }\n",
    "\n",
    "    optimizer = optimizers[setting['opt_method']]\n",
    "    num_nodes = [int(i)  for i in setting['num_node'].split(\"_\") if i!=\"\"]\n",
    "\n",
    "    model = Sequential()\n",
    "    for i in range(int(setting['num_layers'])):\n",
    "        if i==0:\n",
    "            model.add(Dense( num_nodes[i], input_shape=(num_input,), activation=setting['act_method'],                            kernel_regularizer = regularizer))\n",
    "            model.add(Dropout(setting['drop_rate']))\n",
    "        else:\n",
    "            model.add(Dense( num_nodes[i], activation=setting['act_method']))\n",
    "            model.add(Dropout(setting['drop_rate']))\n",
    "    model.add(Dense(1, activation='sigmoid'))\n",
    "    model.compile(loss='binary_crossentropy', optimizer=Adam(lr=setting['lr']), metrics=['accuracy'])\n",
    "    return model\n",
    "\n",
    "\n",
    "\n",
    "callbacks = [EarlyStopping(monitor='acc',min_delta=0,patience=setting['patience'])]\n",
    "\n",
    "\n",
    "def cross_validation(X,Y,setting):\n",
    "    model = getModel(setting,X.shape[1])\n",
    "    preds = []\n",
    "    for train, test in LeaveOneOut().split(X, Y):\n",
    "        model.fit(X[train,:],Y[train],epochs=20,verbose=0, callbacks =callbacks)\n",
    "        probas_ = model.predict(X[test,:])\n",
    "        preds.append(probas_[0][0])\n",
    "        # Compute ROC curve and area the curve\n",
    "    fpr, tpr, thresholds = roc_curve(Y, preds)\n",
    "    average_precision = average_precision_score(Y, preds)\n",
    "    roc_auc = auc(fpr, tpr)\n",
    "    if roc_auc < 0.5:\n",
    "        roc_auc = 1 - roc_auc\n",
    "    \n",
    "    return preds\n",
    "\n"
   ]
  },
  {
   "cell_type": "code",
   "execution_count": 9,
   "metadata": {},
   "outputs": [
    {
     "name": "stdout",
     "output_type": "stream",
     "text": [
      "46\n",
      "26\n"
     ]
    }
   ],
   "source": [
    "Xs, Ys = np.split(df, [first_gene_index], axis=1)\n",
    "Xs = Xs.values\n",
    "Xs = Xs-0.5\n",
    "\n",
    "for gene_id in range(0,1990):\n",
    "    Y = Ys.values[:,gene_id]\n",
    "    best_index_setting = \"../../out_data/feature_selection/selected_features/MLDB_ANN.csv\"\n",
    "    indexes, setting_index = get_feature_index(best_index_setting,gene_id+1)# the first line is meta information\n",
    "    X = Xs[:,indexes]\n",
    "    Model_setting = collections.namedtuple('Model_setting','num_layers num_node alpha drop_rate act_method lr regularization patience opt_method')\n",
    "\n",
    "\n",
    "    setting_ = get_setting(\"../../out_data/FFN_setting2\",setting_index )\n",
    "    setting = Model_setting(*setting_)\n",
    "    setting = setting._asdict()\n",
    "    res = cross_validation(X,Y,setting)\n",
    "    res = pd.DataFrame(res)\n",
    "\n",
    "    res.columns =[\"pred\"]\n",
    "    out_path = \"../../out_data/ANN_prediction/gene_id_\"+str(gene_id) +\".csv\"\n",
    "    res.to_csv(out_path,index = False)\n",
    "\n"
   ]
  }
 ],
 "metadata": {
  "kernelspec": {
   "display_name": "Python 3",
   "language": "python",
   "name": "python3"
  },
  "language_info": {
   "codemirror_mode": {
    "name": "ipython",
    "version": 3
   },
   "file_extension": ".py",
   "mimetype": "text/x-python",
   "name": "python",
   "nbconvert_exporter": "python",
   "pygments_lexer": "ipython3",
   "version": "3.6.1"
  }
 },
 "nbformat": 4,
 "nbformat_minor": 2
}
